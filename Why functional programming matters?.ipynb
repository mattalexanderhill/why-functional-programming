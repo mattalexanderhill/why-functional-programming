{
 "cells": [
  {
   "cell_type": "markdown",
   "id": "b99fa261",
   "metadata": {},
   "source": [
    "# Why Functional Programming"
   ]
  },
  {
   "cell_type": "markdown",
   "id": "f6a9adac",
   "metadata": {},
   "source": [
    "\"with few exceptions, functional programming allows you to write more concise and efficient code... Python's support for functional programming is extensive\" - J. Danjou (Serious Python)\n"
   ]
  },
  {
   "cell_type": "markdown",
   "id": "13d339c5",
   "metadata": {},
   "source": [
    "## Benefits of Functional Programming"
   ]
  },
  {
   "cell_type": "markdown",
   "id": "8073c47e",
   "metadata": {},
   "source": [
    "- Modularity\n",
    "- Concurrency\n",
    "- Testability\n"
   ]
  },
  {
   "cell_type": "markdown",
   "id": "76e8eaec",
   "metadata": {},
   "source": [
    "## Pure functions"
   ]
  },
  {
   "cell_type": "code",
   "execution_count": 1,
   "id": "a5d3d024",
   "metadata": {},
   "outputs": [
    {
     "name": "stdout",
     "output_type": "stream",
     "text": [
      "a\n",
      "[1]\n",
      "[1] \t\tThe list has been modified in-place, there was a 'side-effect'\n",
      "\n",
      "b\n",
      "[1]\n",
      "[1, 2, 3] \tThe list was copied, no side-effect\n"
     ]
    }
   ],
   "source": [
    "def remove_last_item(a_list):\n",
    "    a_list.pop(-1)\n",
    "    return a_list\n",
    "    \n",
    "def all_but_last(a_list):\n",
    "    return a_list[:-1]\n",
    "\n",
    "print('a')\n",
    "a = [1, 2, 3]\n",
    "print(remove_last_item(remove_last_item(a)))\n",
    "print(a, \"\\t\\tThe list has been modified in-place, there was a 'side-effect'\")\n",
    "\n",
    "print('\\nb')\n",
    "b = [1, 2, 3]\n",
    "print(all_but_last(all_but_last(b)))\n",
    "print(b, \"\\tThe list was copied, no side-effect\")"
   ]
  },
  {
   "cell_type": "markdown",
   "id": "89ac1878",
   "metadata": {},
   "source": [
    "## Some useful tools"
   ]
  },
  {
   "cell_type": "markdown",
   "id": "c307e517",
   "metadata": {},
   "source": [
    "### Apply functions to Items with map()"
   ]
  },
  {
   "cell_type": "code",
   "execution_count": 2,
   "id": "1b5e4b3c",
   "metadata": {},
   "outputs": [
    {
     "data": {
      "text/plain": [
       "['a', 'b', 'c']"
      ]
     },
     "execution_count": 2,
     "metadata": {},
     "output_type": "execute_result"
    }
   ],
   "source": [
    "list(map(lambda x: x.lower(), ['A', 'B', 'C']))"
   ]
  },
  {
   "cell_type": "markdown",
   "id": "6a8c2cd4",
   "metadata": {},
   "source": [
    "### Filter lists with filter()"
   ]
  },
  {
   "cell_type": "code",
   "execution_count": 3,
   "id": "3084ad17",
   "metadata": {},
   "outputs": [
    {
     "data": {
      "text/plain": [
       "['1', '2', '3']"
      ]
     },
     "execution_count": 3,
     "metadata": {},
     "output_type": "execute_result"
    }
   ],
   "source": [
    "list(filter(lambda x: x.isnumeric(), ['a', '1', 'b', '2', 'c', '3']))"
   ]
  },
  {
   "cell_type": "markdown",
   "id": "98361135",
   "metadata": {},
   "source": [
    "### Reduce / Inject / Fold(r)"
   ]
  },
  {
   "cell_type": "code",
   "execution_count": 4,
   "id": "54b7192e",
   "metadata": {},
   "outputs": [
    {
     "data": {
      "text/plain": [
       "6"
      ]
     },
     "execution_count": 4,
     "metadata": {},
     "output_type": "execute_result"
    }
   ],
   "source": [
    "from functools import reduce\n",
    "\n",
    "reduce(lambda x, y: x + y, [1, 2, 3], 0)"
   ]
  },
  {
   "cell_type": "markdown",
   "id": "4cb68841",
   "metadata": {},
   "source": [
    "### Reduce function arity"
   ]
  },
  {
   "cell_type": "code",
   "execution_count": 5,
   "id": "17f33351",
   "metadata": {},
   "outputs": [
    {
     "name": "stdout",
     "output_type": "stream",
     "text": [
      "2\n",
      "3\n",
      "4\n"
     ]
    }
   ],
   "source": [
    "from functools import partial\n",
    "\n",
    "def add(a, b):\n",
    "    return a + b\n",
    "\n",
    "def mul(a, b):\n",
    "    return a * b\n",
    "\n",
    "add_one = partial(add, 1)\n",
    "add_two = partial(add, 2)\n",
    "add_three = partial(add, 3)\n",
    "\n",
    "double = partial(mul, 2)\n",
    "\n",
    "print(add_one(1))\n",
    "print(add_two(1))\n",
    "print(add_three(1))"
   ]
  },
  {
   "cell_type": "markdown",
   "id": "e213a5e5",
   "metadata": {},
   "source": [
    "### Itertools has some interesting functions"
   ]
  },
  {
   "cell_type": "code",
   "execution_count": 6,
   "id": "0a91cdef",
   "metadata": {},
   "outputs": [
    {
     "data": {
      "text/plain": [
       "[1, 3, 6]"
      ]
     },
     "execution_count": 6,
     "metadata": {},
     "output_type": "execute_result"
    }
   ],
   "source": [
    "from itertools import accumulate\n",
    "\n",
    "list(accumulate([1, 2, 3], lambda x, y: x + y))"
   ]
  },
  {
   "cell_type": "code",
   "execution_count": 7,
   "id": "3d5d7e47",
   "metadata": {},
   "outputs": [
    {
     "data": {
      "text/plain": [
       "'Tuesday'"
      ]
     },
     "execution_count": 7,
     "metadata": {},
     "output_type": "execute_result"
    }
   ],
   "source": [
    "from itertools import takewhile\n",
    "\n",
    "\"\".join(takewhile(lambda x: x.isalpha(), \"Tuesday, 29th March\"))"
   ]
  },
  {
   "cell_type": "markdown",
   "id": "9eee8b21",
   "metadata": {},
   "source": [
    "## Applied to our examples"
   ]
  },
  {
   "cell_type": "code",
   "execution_count": 8,
   "id": "d2d99925",
   "metadata": {},
   "outputs": [
    {
     "data": {
      "text/plain": [
       "12"
      ]
     },
     "execution_count": 8,
     "metadata": {},
     "output_type": "execute_result"
    }
   ],
   "source": [
    "from functools import reduce, partial\n",
    "\n",
    "\n",
    "def plus(a, b): return a + b\n",
    "\n",
    "\n",
    "def foldr(func, initial, seq):\n",
    "    \"\"\"foldr is the modular 'glue' we are using.\n",
    "    \n",
    "    We could just do foldr = reduce, but this makes the partial easier\n",
    "    \n",
    "    foldr is fold-right so we are traversing seq from right-to-left,\n",
    "    so reverse the func\n",
    "    \"\"\"\n",
    "    return reduce(func, reversed(seq), initial)\n",
    "\n",
    "sum = partial(foldr, plus, 0)  # sum = foldr (+) 0\n",
    "\n",
    "sum([2, 4, 6])"
   ]
  },
  {
   "cell_type": "code",
   "execution_count": 9,
   "id": "41f19f71",
   "metadata": {},
   "outputs": [
    {
     "data": {
      "text/plain": [
       "48"
      ]
     },
     "execution_count": 9,
     "metadata": {},
     "output_type": "execute_result"
    }
   ],
   "source": [
    "def times(a, b): return a * b\n",
    "\n",
    "\n",
    "product = partial(foldr, times, 1)  # product = foldr (*) 1\n",
    "\n",
    "product([2, 4, 6])"
   ]
  },
  {
   "cell_type": "code",
   "execution_count": 10,
   "id": "0718b4fe",
   "metadata": {},
   "outputs": [
    {
     "name": "stdout",
     "output_type": "stream",
     "text": [
      "True\n",
      "False\n"
     ]
    }
   ],
   "source": [
    "def or_(a,b): return a or b\n",
    "\n",
    "\n",
    "anytrue = partial(foldr, or_, False)  # anytrue = foldr (∨) False\n",
    "\n",
    "print(anytrue([False, False, True]))\n",
    "print(anytrue([False, False, False]))"
   ]
  },
  {
   "cell_type": "code",
   "execution_count": 11,
   "id": "c380d84b",
   "metadata": {},
   "outputs": [
    {
     "name": "stdout",
     "output_type": "stream",
     "text": [
      "True\n",
      "False\n"
     ]
    }
   ],
   "source": [
    "def and_(a, b): return a and b\n",
    "\n",
    "\n",
    "alltrue = partial(foldr, and_, True)  # alltrue = foldr (∧) True\n",
    "\n",
    "print(alltrue([True, True, True]))\n",
    "print(alltrue([True, True, False]))"
   ]
  },
  {
   "cell_type": "code",
   "execution_count": 12,
   "id": "e1fb6345",
   "metadata": {},
   "outputs": [
    {
     "data": {
      "text/plain": [
       "Cons 2 (Cons 4 (Cons 6 Nil))"
      ]
     },
     "execution_count": 12,
     "metadata": {},
     "output_type": "execute_result"
    }
   ],
   "source": [
    "from cons import Cons\n",
    "\n",
    "\n",
    "a_list = Cons.from_iter([2, 4, 6])\n",
    "a_list"
   ]
  },
  {
   "cell_type": "code",
   "execution_count": 13,
   "id": "fd0a0a25",
   "metadata": {},
   "outputs": [
    {
     "name": "stdout",
     "output_type": "stream",
     "text": [
      "12\n",
      "48\n",
      "6\n",
      "2\n"
     ]
    }
   ],
   "source": [
    "print(sum(a_list))\n",
    "print(product(a_list))\n",
    "print(anytrue(a_list))\n",
    "print(alltrue(a_list))"
   ]
  },
  {
   "cell_type": "code",
   "execution_count": 14,
   "id": "d1215d79",
   "metadata": {},
   "outputs": [
    {
     "data": {
      "text/plain": [
       "Cons 1 (Cons 2 (Cons 3 (Cons 4 Nil)))"
      ]
     },
     "execution_count": 14,
     "metadata": {},
     "output_type": "execute_result"
    }
   ],
   "source": [
    "a = Cons(1, Cons(2))\n",
    "b = Cons(3, Cons(4))\n",
    "\n",
    "append = partial(foldr, Cons, b)\n",
    "\n",
    "c = append(a)\n",
    "c"
   ]
  },
  {
   "cell_type": "code",
   "execution_count": 15,
   "id": "f6d5aa1d",
   "metadata": {},
   "outputs": [
    {
     "data": {
      "text/plain": [
       "4"
      ]
     },
     "execution_count": 15,
     "metadata": {},
     "output_type": "execute_result"
    }
   ],
   "source": [
    "def count(a, b):\n",
    "    return a + 1\n",
    "\n",
    "length = partial(foldr, count, 0)\n",
    "\n",
    "length(c)"
   ]
  },
  {
   "cell_type": "code",
   "execution_count": 16,
   "id": "58cac13c",
   "metadata": {},
   "outputs": [
    {
     "name": "stdout",
     "output_type": "stream",
     "text": [
      "Cons 2 (Cons 4 (Cons 6 Nil))\n"
     ]
    }
   ],
   "source": [
    "def double_and_cons(b, a):\n",
    "    return Cons(double(a), b)\n",
    "\n",
    "\n",
    "copy = partial(foldr, Cons, None)\n",
    "double_all = partial(foldr, double_and_cons, None)\n",
    "\n",
    "print(double_all([1, 2, 3]))"
   ]
  },
  {
   "cell_type": "code",
   "execution_count": 17,
   "id": "2f131f7a",
   "metadata": {},
   "outputs": [
    {
     "data": {
      "text/plain": [
       "[4, 5, 6]"
      ]
     },
     "execution_count": 17,
     "metadata": {},
     "output_type": "execute_result"
    }
   ],
   "source": [
    "def f_and_cons(f, b, a):\n",
    "    return Cons(f(a), b)\n",
    "\n",
    "\n",
    "def map(f, iterable):\n",
    "    return foldr(partial(f_and_cons, f), None, iterable)\n",
    "\n",
    "\n",
    "list(map(add_three, [1, 2, 3]))"
   ]
  },
  {
   "cell_type": "markdown",
   "id": "688bf896",
   "metadata": {},
   "source": [
    "## Extending this to trees"
   ]
  },
  {
   "cell_type": "code",
   "execution_count": 18,
   "id": "cad6126e",
   "metadata": {},
   "outputs": [
    {
     "data": {
      "text/plain": [
       "Node 1 2 (Cons 3 4)"
      ]
     },
     "execution_count": 18,
     "metadata": {},
     "output_type": "execute_result"
    }
   ],
   "source": [
    "from cons import Node\n",
    "\n",
    "tree = Node(1, 2, Cons(3, 4))\n",
    "tree"
   ]
  },
  {
   "cell_type": "code",
   "execution_count": 40,
   "id": "283a8f66",
   "metadata": {},
   "outputs": [
    {
     "data": {
      "text/plain": [
       "10"
      ]
     },
     "execution_count": 40,
     "metadata": {},
     "output_type": "execute_result"
    }
   ],
   "source": [
    "def foldtree(f, g, tree, a):\n",
    "    if tree is None:\n",
    "        return a\n",
    "\n",
    "    if isinstance(tree, Node):\n",
    "        return g(\n",
    "            g(\n",
    "                foldtree(f, g, tree.left, a),\n",
    "                tree.value\n",
    "            ),\n",
    "            foldtree(f, g, tree.right, a),\n",
    "        )\n",
    "\n",
    "    elif isinstance(tree, Cons):\n",
    "        return g(\n",
    "            foldtree(f, g, tree.other, a),\n",
    "            tree.value\n",
    "        )\n",
    "\n",
    "    return tree\n",
    "\n",
    "foldtree(add, add, tree, 0)"
   ]
  },
  {
   "cell_type": "code",
   "execution_count": 42,
   "id": "de65e3f6",
   "metadata": {},
   "outputs": [
    {
     "data": {
      "text/plain": [
       "Cons (Cons 2 1) (Cons 4 3)"
      ]
     },
     "execution_count": 42,
     "metadata": {},
     "output_type": "execute_result"
    }
   ],
   "source": [
    "labels = foldtree(append, Cons, tree, None)\n",
    "labels\n"
   ]
  },
  {
   "cell_type": "code",
   "execution_count": 43,
   "id": "8489ce3a",
   "metadata": {},
   "outputs": [
    {
     "ename": "AttributeError",
     "evalue": "'int' object has no attribute 'value'",
     "output_type": "error",
     "traceback": [
      "\u001b[0;31m---------------------------------------------------------------------------\u001b[0m",
      "\u001b[0;31mAttributeError\u001b[0m                            Traceback (most recent call last)",
      "Input \u001b[0;32mIn [43]\u001b[0m, in \u001b[0;36m<cell line: 1>\u001b[0;34m()\u001b[0m\n\u001b[0;32m----> 1\u001b[0m \u001b[38;5;28;43mlist\u001b[39;49m\u001b[43m(\u001b[49m\u001b[43mlabels\u001b[49m\u001b[43m)\u001b[49m\n",
      "File \u001b[0;32m~/projects/why-functional-programming/cons.py:16\u001b[0m, in \u001b[0;36mCons.__next__\u001b[0;34m(self)\u001b[0m\n\u001b[1;32m     14\u001b[0m next_ \u001b[38;5;241m=\u001b[39m \u001b[38;5;28mself\u001b[39m\u001b[38;5;241m.\u001b[39mvalue\n\u001b[1;32m     15\u001b[0m \u001b[38;5;28;01mif\u001b[39;00m \u001b[38;5;28mself\u001b[39m\u001b[38;5;241m.\u001b[39mother:\n\u001b[0;32m---> 16\u001b[0m     \u001b[38;5;28mself\u001b[39m\u001b[38;5;241m.\u001b[39mvalue \u001b[38;5;241m=\u001b[39m \u001b[38;5;28;43mself\u001b[39;49m\u001b[38;5;241;43m.\u001b[39;49m\u001b[43mother\u001b[49m\u001b[38;5;241;43m.\u001b[39;49m\u001b[43mvalue\u001b[49m\n\u001b[1;32m     17\u001b[0m     \u001b[38;5;28mself\u001b[39m\u001b[38;5;241m.\u001b[39mother \u001b[38;5;241m=\u001b[39m \u001b[38;5;28mself\u001b[39m\u001b[38;5;241m.\u001b[39mother\u001b[38;5;241m.\u001b[39mother\n\u001b[1;32m     18\u001b[0m \u001b[38;5;28;01melse\u001b[39;00m:\n",
      "\u001b[0;31mAttributeError\u001b[0m: 'int' object has no attribute 'value'"
     ]
    }
   ],
   "source": [
    "list(labels)"
   ]
  }
 ],
 "metadata": {
  "celltoolbar": "Raw Cell Format",
  "kernelspec": {
   "display_name": "Python 3 (ipykernel)",
   "language": "python",
   "name": "python3"
  },
  "language_info": {
   "codemirror_mode": {
    "name": "ipython",
    "version": 3
   },
   "file_extension": ".py",
   "mimetype": "text/x-python",
   "name": "python",
   "nbconvert_exporter": "python",
   "pygments_lexer": "ipython3",
   "version": "3.9.0"
  }
 },
 "nbformat": 4,
 "nbformat_minor": 5
}
